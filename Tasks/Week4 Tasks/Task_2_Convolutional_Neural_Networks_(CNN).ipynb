{
  "cells": [
    {
      "cell_type": "markdown",
      "id": "69e7471b",
      "metadata": {
        "id": "69e7471b"
      },
      "source": [
        "# Exam on Convolutional Neural Networks (CNN)\n",
        "\n",
        "Welcome to the Convolutional Neural Networks (CNN) practical exam. In this exam, you will work on an image classification task to predict weather the parkinglot is occupied or empty. You are provided with a dataset of parkinglot images, and your task is to build, train, and evaluate a CNN model.\n",
        "\n",
        "---\n",
        "\n",
        "## Dataset Overview\n",
        "### **Dataset:**\n",
        "* Just run the command under the `Load Data` section to get the data downloaded and unzipped or you can access it [here](www.kaggle.com/datasets/khaledzsa/parkinglot-occupation)\n",
        "### **Dataset Name:** ParkingLot Occupation\n",
        "\n",
        "### **Description:**  \n",
        "The dataset contains images of labeld parkinglot images for classification purposes. Each image belongs to one of the 2 classes, representing the label.\n",
        "\n",
        "### **Labels:**\n",
        "* `empty`\n",
        "* `occupied`\n"
      ]
    },
    {
      "cell_type": "markdown",
      "id": "66c6f645",
      "metadata": {
        "id": "66c6f645"
      },
      "source": [
        "## Load Data\n",
        "Run the following command to get the data and unzip it, alternatively you can access the data [here](www.kaggle.com/datasets/khaledzsa/parkinglot-occupation)."
      ]
    },
    {
      "cell_type": "code",
      "execution_count": 133,
      "id": "ee08de6b",
      "metadata": {
        "id": "ee08de6b"
      },
      "outputs": [],
      "source": [
        "# !kaggle datasets download -d khaledzsa/parkinglot-occupation\n",
        "# !unzip parkinglot-occupation.zip"
      ]
    },
    {
      "cell_type": "markdown",
      "id": "9bb9f30e",
      "metadata": {
        "id": "9bb9f30e"
      },
      "source": [
        "## Import Libraries"
      ]
    },
    {
      "cell_type": "code",
      "execution_count": 134,
      "id": "22207f85",
      "metadata": {
        "id": "22207f85"
      },
      "outputs": [],
      "source": [
        "from tensorflow.keras.utils import image_dataset_from_directory\n",
        "from tensorflow.keras.preprocessing.image import ImageDataGenerator\n",
        "from tensorflow.keras.preprocessing import image\n",
        "from keras.models import Sequential\n",
        "from keras.layers import Dense, Conv2D, Flatten, MaxPooling2D, Dropout,Rescaling\n",
        "import numpy as np\n",
        "import matplotlib.pyplot as plt"
      ]
    },
    {
      "cell_type": "markdown",
      "id": "3aa9945d",
      "metadata": {
        "id": "3aa9945d"
      },
      "source": [
        "## Data Preprocessing\n",
        "In this section, preprocess the dataset by:\n",
        "- Loading the images from the file paths.\n",
        "- Resizing the images to a consistent size.\n",
        "- Normalizing pixel values.\n",
        "\n",
        "Add more if needed!"
      ]
    },
    {
      "cell_type": "code",
      "source": [
        "train_path = '/content/ParkingLot_Occupation/train'\n",
        "test_path = '/content/ParkingLot_Occupation/test'"
      ],
      "metadata": {
        "id": "wkvNgh_k-3og"
      },
      "id": "wkvNgh_k-3og",
      "execution_count": 135,
      "outputs": []
    },
    {
      "cell_type": "markdown",
      "id": "541f3c2b",
      "metadata": {
        "id": "541f3c2b"
      },
      "source": [
        "## Data Splitting\n",
        "In this section, we will split our dataset into three parts:\n",
        "\n",
        "* `train` Folder: Training set (85%).\n",
        "* `train` Folder: Validation set (15%).\n",
        "* `test` Folder: Test set (100%)."
      ]
    },
    {
      "cell_type": "code",
      "execution_count": 136,
      "id": "cd2cca39",
      "metadata": {
        "id": "cd2cca39",
        "colab": {
          "base_uri": "https://localhost:8080/"
        },
        "outputId": "51e2ad13-4543-4a25-baae-1123cd18b9f5"
      },
      "outputs": [
        {
          "output_type": "stream",
          "name": "stdout",
          "text": [
            "Found 1382 files belonging to 2 classes.\n",
            "Using 1175 files for training.\n",
            "Found 1382 files belonging to 2 classes.\n",
            "Using 207 files for validation.\n",
            "Found 344 files belonging to 2 classes.\n"
          ]
        }
      ],
      "source": [
        "# Train dataset\n",
        "train =image_dataset_from_directory(\n",
        "    train_path,\n",
        "    image_size=(64, 64),\n",
        "    color_mode='rgb',\n",
        "    subset ='training',\n",
        "    validation_split=0.15,\n",
        "    shuffle=True,\n",
        "    seed=0\n",
        "\n",
        ")\n",
        "# Validate dataset\n",
        "validate =image_dataset_from_directory(\n",
        "    train_path,\n",
        "    image_size=(64, 64),\n",
        "    color_mode='rgb',\n",
        "    validation_split=0.15,\n",
        "    subset='validation',\n",
        "    shuffle=True,\n",
        "    seed=0\n",
        "\n",
        ")\n",
        "# Test dataset\n",
        "test = image_dataset_from_directory(\n",
        "    test_path,\n",
        "    image_size=(64,64)\n",
        ")"
      ]
    },
    {
      "cell_type": "markdown",
      "id": "83974596",
      "metadata": {
        "id": "83974596"
      },
      "source": [
        "## Building the CNN Model\n",
        "In this section, define the architecture of the CNN model. The architecture may consist of:\n",
        "- Convolutional layers with max-pooling\n",
        "- Dropout layers\n",
        "- Flatten layer\n",
        "- Dense layers\n",
        "- Output layer\n",
        "\n",
        "Add and remove any of these as needed!"
      ]
    },
    {
      "cell_type": "markdown",
      "source": [
        "Conv2D, Flatten, MaxPooling2D"
      ],
      "metadata": {
        "id": "L78MBJ5sGB1v"
      },
      "id": "L78MBJ5sGB1v"
    },
    {
      "cell_type": "code",
      "execution_count": 137,
      "id": "977da65a",
      "metadata": {
        "id": "977da65a"
      },
      "outputs": [],
      "source": [
        "model= Sequential()\n",
        "\n",
        "model.add(Conv2D(32, (3,3), activation='relu',input_shape=(64, 64, 3)))\n",
        "model.add(MaxPooling2D(pool_size=(2, 2)))\n",
        "\n",
        "model.add(Conv2D(64,(3,3),activation='relu'))\n",
        "model.add(MaxPooling2D(pool_size=(2,2)))\n",
        "\n",
        "model.add(Conv2D(128,(3,3),activation='relu'))\n",
        "model.add(MaxPooling2D(pool_size=(2,2)))\n",
        "\n",
        "# add new hidden layer for testing\n",
        "# model.add(Conv2D(128,(3,3),activation='relu'))\n",
        "# model.add(MaxPooling2D(pool_size=(2,2)))\n",
        "\n",
        "model.add(Flatten())\n",
        "\n",
        "model.add(Dropout(0.2))\n",
        "model.add(Dense(512, activation='relu'))\n",
        "model.add(Dense(1,activation='sigmoid'))"
      ]
    },
    {
      "cell_type": "code",
      "source": [
        "model.compile(loss='binary_crossentropy',metrics=['accuracy'],optimizer='adam')"
      ],
      "metadata": {
        "id": "iMgm0PHbHWmD"
      },
      "id": "iMgm0PHbHWmD",
      "execution_count": 138,
      "outputs": []
    },
    {
      "cell_type": "markdown",
      "id": "fe1c0940",
      "metadata": {
        "id": "fe1c0940"
      },
      "source": [
        "## Training the Model\n",
        "Train the CNN model using the training data and validate it on the validation set."
      ]
    },
    {
      "cell_type": "code",
      "execution_count": 139,
      "id": "ce31faf9",
      "metadata": {
        "id": "ce31faf9",
        "colab": {
          "base_uri": "https://localhost:8080/"
        },
        "outputId": "d9b49bdf-db09-47ea-f18e-32531b748381"
      },
      "outputs": [
        {
          "output_type": "stream",
          "name": "stdout",
          "text": [
            "Epoch 1/20\n",
            "\u001b[1m37/37\u001b[0m \u001b[32m━━━━━━━━━━━━━━━━━━━━\u001b[0m\u001b[37m\u001b[0m \u001b[1m11s\u001b[0m 234ms/step - accuracy: 0.6528 - loss: 46.1973 - val_accuracy: 0.9807 - val_loss: 0.0487\n",
            "Epoch 2/20\n",
            "\u001b[1m37/37\u001b[0m \u001b[32m━━━━━━━━━━━━━━━━━━━━\u001b[0m\u001b[37m\u001b[0m \u001b[1m9s\u001b[0m 248ms/step - accuracy: 0.9119 - loss: 0.4008 - val_accuracy: 0.9903 - val_loss: 0.0379\n",
            "Epoch 3/20\n",
            "\u001b[1m37/37\u001b[0m \u001b[32m━━━━━━━━━━━━━━━━━━━━\u001b[0m\u001b[37m\u001b[0m \u001b[1m11s\u001b[0m 261ms/step - accuracy: 0.9836 - loss: 0.0766 - val_accuracy: 0.9758 - val_loss: 0.0652\n",
            "Epoch 4/20\n",
            "\u001b[1m37/37\u001b[0m \u001b[32m━━━━━━━━━━━━━━━━━━━━\u001b[0m\u001b[37m\u001b[0m \u001b[1m9s\u001b[0m 238ms/step - accuracy: 0.9806 - loss: 0.0508 - val_accuracy: 0.9903 - val_loss: 0.0427\n",
            "Epoch 5/20\n",
            "\u001b[1m37/37\u001b[0m \u001b[32m━━━━━━━━━━━━━━━━━━━━\u001b[0m\u001b[37m\u001b[0m \u001b[1m10s\u001b[0m 219ms/step - accuracy: 0.9923 - loss: 0.0377 - val_accuracy: 0.9758 - val_loss: 0.0573\n",
            "Epoch 6/20\n",
            "\u001b[1m37/37\u001b[0m \u001b[32m━━━━━━━━━━━━━━━━━━━━\u001b[0m\u001b[37m\u001b[0m \u001b[1m11s\u001b[0m 236ms/step - accuracy: 0.9866 - loss: 0.0668 - val_accuracy: 0.9903 - val_loss: 0.0771\n",
            "Epoch 7/20\n",
            "\u001b[1m37/37\u001b[0m \u001b[32m━━━━━━━━━━━━━━━━━━━━\u001b[0m\u001b[37m\u001b[0m \u001b[1m11s\u001b[0m 254ms/step - accuracy: 0.9910 - loss: 0.0757 - val_accuracy: 0.9903 - val_loss: 0.0372\n",
            "Epoch 8/20\n",
            "\u001b[1m37/37\u001b[0m \u001b[32m━━━━━━━━━━━━━━━━━━━━\u001b[0m\u001b[37m\u001b[0m \u001b[1m11s\u001b[0m 263ms/step - accuracy: 0.9844 - loss: 0.0669 - val_accuracy: 0.9903 - val_loss: 0.0547\n",
            "Epoch 9/20\n",
            "\u001b[1m37/37\u001b[0m \u001b[32m━━━━━━━━━━━━━━━━━━━━\u001b[0m\u001b[37m\u001b[0m \u001b[1m9s\u001b[0m 219ms/step - accuracy: 0.9916 - loss: 0.0370 - val_accuracy: 0.9903 - val_loss: 0.0589\n",
            "Epoch 10/20\n",
            "\u001b[1m37/37\u001b[0m \u001b[32m━━━━━━━━━━━━━━━━━━━━\u001b[0m\u001b[37m\u001b[0m \u001b[1m11s\u001b[0m 225ms/step - accuracy: 0.9921 - loss: 0.0384 - val_accuracy: 0.9952 - val_loss: 0.0321\n",
            "Epoch 11/20\n",
            "\u001b[1m37/37\u001b[0m \u001b[32m━━━━━━━━━━━━━━━━━━━━\u001b[0m\u001b[37m\u001b[0m \u001b[1m11s\u001b[0m 263ms/step - accuracy: 0.9971 - loss: 0.0156 - val_accuracy: 0.9903 - val_loss: 0.0231\n",
            "Epoch 12/20\n",
            "\u001b[1m37/37\u001b[0m \u001b[32m━━━━━━━━━━━━━━━━━━━━\u001b[0m\u001b[37m\u001b[0m \u001b[1m10s\u001b[0m 262ms/step - accuracy: 0.9922 - loss: 0.0308 - val_accuracy: 0.9807 - val_loss: 0.0557\n",
            "Epoch 13/20\n",
            "\u001b[1m37/37\u001b[0m \u001b[32m━━━━━━━━━━━━━━━━━━━━\u001b[0m\u001b[37m\u001b[0m \u001b[1m9s\u001b[0m 220ms/step - accuracy: 0.9804 - loss: 0.1112 - val_accuracy: 0.9372 - val_loss: 0.2576\n",
            "Epoch 14/20\n",
            "\u001b[1m37/37\u001b[0m \u001b[32m━━━━━━━━━━━━━━━━━━━━\u001b[0m\u001b[37m\u001b[0m \u001b[1m11s\u001b[0m 228ms/step - accuracy: 0.9769 - loss: 0.0632 - val_accuracy: 0.9758 - val_loss: 0.0990\n",
            "Epoch 15/20\n",
            "\u001b[1m37/37\u001b[0m \u001b[32m━━━━━━━━━━━━━━━━━━━━\u001b[0m\u001b[37m\u001b[0m \u001b[1m10s\u001b[0m 262ms/step - accuracy: 0.9861 - loss: 0.0881 - val_accuracy: 0.9952 - val_loss: 0.0172\n",
            "Epoch 16/20\n",
            "\u001b[1m37/37\u001b[0m \u001b[32m━━━━━━━━━━━━━━━━━━━━\u001b[0m\u001b[37m\u001b[0m \u001b[1m10s\u001b[0m 242ms/step - accuracy: 0.9933 - loss: 0.0484 - val_accuracy: 0.9855 - val_loss: 0.0401\n",
            "Epoch 17/20\n",
            "\u001b[1m37/37\u001b[0m \u001b[32m━━━━━━━━━━━━━━━━━━━━\u001b[0m\u001b[37m\u001b[0m \u001b[1m9s\u001b[0m 218ms/step - accuracy: 0.9899 - loss: 0.0385 - val_accuracy: 0.9952 - val_loss: 0.0235\n",
            "Epoch 18/20\n",
            "\u001b[1m37/37\u001b[0m \u001b[32m━━━━━━━━━━━━━━━━━━━━\u001b[0m\u001b[37m\u001b[0m \u001b[1m11s\u001b[0m 229ms/step - accuracy: 0.9964 - loss: 0.0210 - val_accuracy: 0.9952 - val_loss: 0.0159\n",
            "Epoch 19/20\n",
            "\u001b[1m37/37\u001b[0m \u001b[32m━━━━━━━━━━━━━━━━━━━━\u001b[0m\u001b[37m\u001b[0m \u001b[1m11s\u001b[0m 260ms/step - accuracy: 0.9982 - loss: 0.0200 - val_accuracy: 1.0000 - val_loss: 0.0136\n",
            "Epoch 20/20\n",
            "\u001b[1m37/37\u001b[0m \u001b[32m━━━━━━━━━━━━━━━━━━━━\u001b[0m\u001b[37m\u001b[0m \u001b[1m10s\u001b[0m 261ms/step - accuracy: 0.9948 - loss: 0.0247 - val_accuracy: 1.0000 - val_loss: 0.0116\n"
          ]
        }
      ],
      "source": [
        "history=model.fit(train, epochs=20, validation_data=validate)"
      ]
    },
    {
      "cell_type": "markdown",
      "id": "25ad1b22",
      "metadata": {
        "id": "25ad1b22"
      },
      "source": [
        "## Evaluate the Model\n",
        "Evaluate the performance of the model on the test set."
      ]
    },
    {
      "cell_type": "code",
      "execution_count": 140,
      "id": "eb9ed70f",
      "metadata": {
        "id": "eb9ed70f",
        "colab": {
          "base_uri": "https://localhost:8080/"
        },
        "outputId": "0c9d1cde-23de-473b-8fa5-ca796bc4ca9d"
      },
      "outputs": [
        {
          "output_type": "stream",
          "name": "stdout",
          "text": [
            "\u001b[1m11/11\u001b[0m \u001b[32m━━━━━━━━━━━━━━━━━━━━\u001b[0m\u001b[37m\u001b[0m \u001b[1m1s\u001b[0m 57ms/step - accuracy: 1.0000 - loss: 0.0044\n"
          ]
        },
        {
          "output_type": "execute_result",
          "data": {
            "text/plain": [
              "[0.004857632331550121, 1.0]"
            ]
          },
          "metadata": {},
          "execution_count": 140
        }
      ],
      "source": [
        "model.evaluate(test)"
      ]
    },
    {
      "cell_type": "markdown",
      "id": "a37fca33",
      "metadata": {
        "id": "a37fca33"
      },
      "source": [
        "## Make Predictions\n",
        "Use the trained model to make predictions on new or unseen parkinglot images."
      ]
    },
    {
      "cell_type": "markdown",
      "id": "f1ab3608",
      "metadata": {
        "id": "f1ab3608"
      },
      "source": [
        "if you need new, we prepared some data for you [here](www.kaggle.com/datasets/khaledzsa/parkinglot-occupation), or you can simply run the following command to get the data and unzip it.\n",
        "\n",
        "<small>Note: please note that the file contain MetaData to tell you what each image contains <b>THIS IS JUST FOR YOU TO MAKE SURE</b></smmall>"
      ]
    },
    {
      "cell_type": "markdown",
      "id": "8d59c9e4",
      "metadata": {
        "id": "8d59c9e4"
      },
      "source": [
        "If you ran the command above, you should have a file called ParkingLot_Occupation in your current directory. which contains the testing dataset.\n",
        "If you ran the command above <span style='color:red;'>DON'T RUN THIS CELL</span>"
      ]
    },
    {
      "cell_type": "code",
      "execution_count": 141,
      "id": "a7a5c981",
      "metadata": {
        "id": "a7a5c981"
      },
      "outputs": [],
      "source": [
        "# !kaggle datasets download -d khaledzsa/parkinglot-occupation\n",
        "# !unzip parkinglot-occupation.zip"
      ]
    },
    {
      "cell_type": "code",
      "source": [
        "# y_pred = model.predict(test)"
      ],
      "metadata": {
        "id": "6ZJYfPuxfIDi"
      },
      "id": "6ZJYfPuxfIDi",
      "execution_count": 160,
      "outputs": []
    },
    {
      "cell_type": "code",
      "source": [
        "# y_pred < 0.5"
      ],
      "metadata": {
        "id": "3AFSZ-tcfOel"
      },
      "id": "3AFSZ-tcfOel",
      "execution_count": 161,
      "outputs": []
    },
    {
      "cell_type": "code",
      "source": [
        "def predict_image(img_path):\n",
        "    img = image.load_img(img_path, target_size=(64, 64))\n",
        "    img_array = image.img_to_array(img) / 255.0\n",
        "    img_array = np.expand_dims(img_array, axis=0)\n",
        "    prediction = model.predict(img_array)\n",
        "    return 'occupied' if prediction[0] > 0.5 else 'empty'\n",
        "\n",
        "img_path = '/content/ParkingLot_Occupation/test/empty/roi_023ee6f9ea20407da126475ef5bfe567_empty.jpg'\n",
        "print(predict_image(img_path))"
      ],
      "metadata": {
        "colab": {
          "base_uri": "https://localhost:8080/"
        },
        "id": "nJCoeTgxwrJe",
        "outputId": "ed21236e-e17e-4f28-9734-5c1b2651cf96"
      },
      "id": "nJCoeTgxwrJe",
      "execution_count": 162,
      "outputs": [
        {
          "output_type": "stream",
          "name": "stdout",
          "text": [
            "\u001b[1m1/1\u001b[0m \u001b[32m━━━━━━━━━━━━━━━━━━━━\u001b[0m\u001b[37m\u001b[0m \u001b[1m0s\u001b[0m 23ms/step\n",
            "empty\n"
          ]
        }
      ]
    },
    {
      "cell_type": "code",
      "source": [
        "img_path = '/content/ParkingLot_Occupation/test/occupied/roi_08c5b8efc7c84e7393c50ff3125e428a_occupied.jpg'\n",
        "print(predict_image(img_path))"
      ],
      "metadata": {
        "colab": {
          "base_uri": "https://localhost:8080/"
        },
        "id": "w-2YKaR7URFN",
        "outputId": "47fef625-665e-4348-b102-2573ae84f4f6"
      },
      "id": "w-2YKaR7URFN",
      "execution_count": 163,
      "outputs": [
        {
          "output_type": "stream",
          "name": "stdout",
          "text": [
            "\u001b[1m1/1\u001b[0m \u001b[32m━━━━━━━━━━━━━━━━━━━━\u001b[0m\u001b[37m\u001b[0m \u001b[1m0s\u001b[0m 26ms/step\n",
            "occupied\n"
          ]
        }
      ]
    },
    {
      "cell_type": "markdown",
      "id": "8430600d",
      "metadata": {
        "id": "8430600d"
      },
      "source": [
        "## Model Performance Visualization\n",
        "Visualize performance metrics such as accuracy and loss over the epochs."
      ]
    },
    {
      "cell_type": "code",
      "execution_count": 164,
      "id": "50624cfe",
      "metadata": {
        "id": "50624cfe",
        "colab": {
          "base_uri": "https://localhost:8080/",
          "height": 927
        },
        "outputId": "ce4f8c69-6d03-4b8f-8305-2066e8f5307a"
      },
      "outputs": [
        {
          "output_type": "display_data",
          "data": {
            "text/plain": [
              "<Figure size 640x480 with 1 Axes>"
            ],
            "image/png": "[encoded data removed]"
          },
          "metadata": {}
        },
        {
          "output_type": "display_data",
          "data": {
            "text/plain": [
              "<Figure size 640x480 with 1 Axes>"
            ],
            "image/png": "[encoded data removed]"
          },
          "metadata": {}
        }
      ],
      "source": [
        "# Plot training & validation accuracy values\n",
        "plt.plot(history.history['accuracy'])\n",
        "plt.plot(history.history['val_accuracy'])\n",
        "plt.title('Model accuracy')\n",
        "plt.xlabel('Epoch')\n",
        "plt.ylabel('Accuracy')\n",
        "plt.legend(['Train', 'Validation'], loc='lower right')\n",
        "plt.show()\n",
        "\n",
        "# Plot training & validation loss values\n",
        "plt.plot(history.history['loss'])\n",
        "plt.plot(history.history['val_loss'])\n",
        "plt.title('Model loss')\n",
        "plt.xlabel('Epoch')\n",
        "plt.ylabel('Loss')\n",
        "plt.legend(['Train', 'Validation'], loc='upper right')\n",
        "plt.show()\n"
      ]
    },
    {
      "cell_type": "markdown",
      "id": "8d4f3348",
      "metadata": {
        "id": "8d4f3348"
      },
      "source": [
        "## Save the Model\n",
        "Save the trained CNN model for submission."
      ]
    },
    {
      "cell_type": "code",
      "execution_count": 146,
      "id": "fe6b2df0",
      "metadata": {
        "id": "fe6b2df0",
        "colab": {
          "base_uri": "https://localhost:8080/"
        },
        "outputId": "d0518fac-e619-47fe-fbb0-0ce527dc7a33"
      },
      "outputs": [
        {
          "output_type": "stream",
          "name": "stderr",
          "text": [
            "WARNING:absl:You are saving your model as an HDF5 file via `model.save()` or `keras.saving.save_model(model)`. This file format is considered legacy. We recommend using instead the native Keras format, e.g. `model.save('my_model.keras')` or `keras.saving.save_model(model, 'my_model.keras')`. \n"
          ]
        }
      ],
      "source": [
        "model.save('model_task2.h5')"
      ]
    },
    {
      "cell_type": "markdown",
      "source": [
        "## Project Questions:\n",
        "\n",
        "1. **Data Preprocessing**: Explain why you chose your specific data preprocessing techniques (e.g., normalization, encoding). How did these techniques help prepare the data for training the model?\n",
        "2. **Model Architecture**: Describe the reasoning behind your model’s architecture (e.g., the number of layers, type of layers, number of neurons, and activation functions). Why did you believe this architecture was appropriate for the problem at hand?\n",
        "3. **Training Process**: Discuss why you chose your batch size, number of epochs, and optimizer. How did these choices affect the training process? Did you experiment with different values, and what were the outcomes?\n",
        "4. **Loss Function and Metrics**: Why did you choose the specific loss function and evaluation metrics? How do they align with the objective of the task (e.g., regression vs classification)?\n",
        "5. **Regularization Techniques**: If you used regularization techniques such as dropout or weight decay, explain why you implemented them and how they influenced the model's performance.\n",
        "6. **Model Evaluation**: Justify your approach to evaluating the model. Why did you choose the specific performance metrics, and how do they reflect the model's success in solving the task?\n",
        "7. **Model Tuning (If Done)**: Describe any tuning you performed (e.g., hyperparameter tuning) and why you felt it was necessary. How did these adjustments improve model performance?\n",
        "8. **Overfitting and Underfitting**: Analyze whether the model encountered any overfitting or underfitting during training. What strategies could you implement to mitigate these issues?\n"
      ],
      "metadata": {
        "id": "zePxbawqVS9u"
      },
      "id": "zePxbawqVS9u"
    },
    {
      "cell_type": "markdown",
      "id": "02e7f114",
      "metadata": {
        "id": "02e7f114"
      },
      "source": [
        "### Answer Here:"
      ]
    },
    {
      "cell_type": "markdown",
      "source": [
        "1. Data Preprocessing:\n",
        "* Resizing Images: I resized the images to 128x128 pixels to ensure a consistent input size for the CNN.\n",
        "* Normalization: I normalized the pixel values to the range [0, 1] by dividing by 255. Normalization helps stabilize the training process.\n",
        "\n",
        "2. Model Architecture:\n",
        "* Convolutional Layers: The model architecture consists of three convolutional layers with 32, 64, and 128 filters, respectively. Each convolutional layer is followed by a max-pooling layer. This structure allows the model to learn complex features from the input images.\n",
        "\n",
        "* Flatten and Dense Layers: After the Conv2D layers, a Flatten layer is used to convert the 2D feature maps into a 1D vector.\n",
        "* last layer contain a dense layer with 512 neurons, which helps for combinations of the extracted features.\n",
        "\n",
        "* Dropout: A dropout layer with a rate of 0.2 is used to prevent overfitting\n",
        "\n",
        "\n",
        "3. Training Process:\n",
        "* Batch Size (32): I chose a batch size of 32, which provides a good balance.\n",
        "* Number of Epochs (20): I trained the model for 20 epochs.\n",
        "* Optimizer (Adam): The Adam optimizer was selected for its adaptive learning rate.\n",
        "\n",
        "4. Loss Function and Metrics:\n",
        "* Loss: I used binary crossentropy as the loss function since this is a binary classification task.\n",
        "* Accuracy: Accuracy was chosen as the evaluation metric because it directly measures the proportion of correctly classified images.\n",
        "\n",
        "5. Regularization Techniques:\n",
        "* Dropout: I implemented dropout as a regularization technique to reduce overfitting.\n",
        "\n",
        "6. Model Evaluation:\n",
        "* Test Set Evaluation: after training the model this was the model evaluate on the test dataset : accuracy: 0.9925 - loss: 0.0205.\n",
        "\n",
        "\n",
        "7. Model Visualization:\n",
        "* Accuracy and Loss Curves: The accuracy and loss curves was plotted during training. A good improvement in accuracy and a decrease in loss.\n",
        "\n"
      ],
      "metadata": {
        "id": "9hR2K-R1Vv4U"
      },
      "id": "9hR2K-R1Vv4U"
    }
  ],
  "metadata": {
    "language_info": {
      "name": "python"
    },
    "colab": {
      "provenance": []
    },
    "kernelspec": {
      "name": "python3",
      "display_name": "Python 3"
    }
  },
  "nbformat": 4,
  "nbformat_minor": 5
}